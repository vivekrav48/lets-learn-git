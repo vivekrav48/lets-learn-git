{
 "cells": [
  {
   "cell_type": "code",
   "execution_count": 1,
   "id": "cd6bea9e",
   "metadata": {},
   "outputs": [
    {
     "name": "stdout",
     "output_type": "stream",
     "text": [
      "[2, 4, 6, 8, 2, 34]\n",
      "[1, 3, 5, 7, 9, 1]\n"
     ]
    }
   ],
   "source": [
    "l=[1,2,3,4,5,6,7,8,9,1,2,34,]\n",
    "a=[]\n",
    "b=[]\n",
    "for i in l:\n",
    "    if i%2==0:\n",
    "        a.append(i)\n",
    "    else:\n",
    "        b.append(i)\n",
    "print(a)\n",
    "print(b)\n"
   ]
  },
  {
   "cell_type": "code",
   "execution_count": 4,
   "id": "84fab752",
   "metadata": {},
   "outputs": [
    {
     "name": "stdout",
     "output_type": "stream",
     "text": [
      "7\n"
     ]
    }
   ],
   "source": [
    "l=[1,2,7,8,9,5,6]\n",
    "a=0\n",
    "for i in l:\n",
    "    a=a+1\n",
    "print(a)"
   ]
  },
  {
   "cell_type": "code",
   "execution_count": 5,
   "id": "e72ac71c",
   "metadata": {},
   "outputs": [
    {
     "data": {
      "text/plain": [
       "38"
      ]
     },
     "execution_count": 5,
     "metadata": {},
     "output_type": "execute_result"
    }
   ],
   "source": [
    "l=[1,2,7,8,9,5,6]\n",
    "s=0\n",
    "for i in l:\n",
    "    s=s+i\n",
    "s"
   ]
  },
  {
   "cell_type": "code",
   "execution_count": 16,
   "id": "c2628128",
   "metadata": {},
   "outputs": [
    {
     "name": "stdout",
     "output_type": "stream",
     "text": [
      "[8, 6, 6, 8, 6] counting of even number:  5 sum of even number  34\n"
     ]
    }
   ],
   "source": [
    "l=[8,7,6,5,6,7,8,9,5,6,7]\n",
    "a=[]\n",
    "b=[]\n",
    "a1=0\n",
    "b1=0\n",
    "sum=0\n",
    "sum1=0\n",
    "for i in l:\n",
    "    if i%2==0:\n",
    "        a.append(i)\n",
    "        a1=a1+1\n",
    "        sum=sum+i\n",
    "    else:\n",
    "        b.append(i)\n",
    "        b1=b1+1\n",
    "        sum1=sum1+i\n",
    "print(a,\"counting of even number: \",a1, \"sum of even number \", sum)"
   ]
  },
  {
   "cell_type": "code",
   "execution_count": 19,
   "id": "fef7dab0",
   "metadata": {},
   "outputs": [
    {
     "name": "stdout",
     "output_type": "stream",
     "text": [
      "wafe\n",
      "23456\n",
      "%$#\n"
     ]
    }
   ],
   "source": [
    "l='wafe23456%$#'\n",
    "a=''\n",
    "b=''\n",
    "c=''\n",
    "for i in l:\n",
    "    if i.isalpha():\n",
    "        a=a+i\n",
    "    elif i.isdigit():\n",
    "        b=b+i\n",
    "    else:\n",
    "        c=c+i\n",
    "print(a)\n",
    "print(b)\n",
    "print(c)\n",
    "        "
   ]
  },
  {
   "cell_type": "code",
   "execution_count": 34,
   "id": "53575352",
   "metadata": {},
   "outputs": [
    {
     "name": "stdout",
     "output_type": "stream",
     "text": [
      "wafe\n",
      "23456 sum:  54\n",
      "%$#\n"
     ]
    }
   ],
   "source": [
    "l='wafe23456%$#'\n",
    "a=''\n",
    "b=''\n",
    "c=''\n",
    "d=0\n",
    "for i in l:\n",
    "    if i.isalpha():\n",
    "        a=a+i\n",
    "    elif i.isdigit():\n",
    "        b=b+i\n",
    "        sum=sum+int(i)\n",
    "    else:\n",
    "        c=c+i\n",
    "print(a)\n",
    "print(b,'sum: ',sum)\n",
    "print(c)\n",
    "        "
   ]
  },
  {
   "cell_type": "code",
   "execution_count": null,
   "id": "44d6cd3f",
   "metadata": {},
   "outputs": [],
   "source": [
    "l=[1,2,3,(4,5,6),7,8]"
   ]
  },
  {
   "cell_type": "code",
   "execution_count": 6,
   "id": "67d159a0",
   "metadata": {},
   "outputs": [
    {
     "name": "stdout",
     "output_type": "stream",
     "text": [
      "[20, 18, 16, 14, 12, 10, 8, 6, 4, 2]\n"
     ]
    }
   ],
   "source": [
    "# Write a python program to print first 10 even numbers in reverse order?\n",
    "print([i for i in range(20, 0, -2)])"
   ]
  },
  {
   "cell_type": "code",
   "execution_count": 4,
   "id": "73408d58",
   "metadata": {},
   "outputs": [
    {
     "name": "stdout",
     "output_type": "stream",
     "text": [
      "20\n",
      "18\n",
      "16\n",
      "14\n",
      "12\n",
      "10\n",
      "8\n",
      "6\n",
      "4\n",
      "2\n"
     ]
    }
   ],
   "source": [
    "for i in range(20,0,-2):\n",
    "    print(i)"
   ]
  },
  {
   "cell_type": "code",
   "execution_count": 19,
   "id": "c8026c07",
   "metadata": {
    "scrolled": true
   },
   "outputs": [
    {
     "name": "stdout",
     "output_type": "stream",
     "text": [
      "enter the number84\n",
      "84\n",
      "168\n",
      "252\n",
      "336\n",
      "420\n",
      "504\n",
      "588\n",
      "672\n",
      "756\n",
      "840\n"
     ]
    }
   ],
   "source": [
    "# Write a python program to print multiplication table of a given number.\n",
    "    \n",
    "num = int(input(\"enter the number\"))\n",
    "for i in range(1,11):\n",
    "    print(num*i)\n"
   ]
  },
  {
   "cell_type": "code",
   "execution_count": 8,
   "id": "72eccede",
   "metadata": {},
   "outputs": [
    {
     "name": "stdout",
     "output_type": "stream",
     "text": [
      "100\n",
      "105\n",
      "110\n",
      "115\n",
      "120\n",
      "125\n",
      "130\n",
      "135\n",
      "140\n",
      "145\n",
      "155\n",
      "160\n",
      "165\n",
      "170\n",
      "175\n",
      "180\n",
      "185\n",
      "190\n",
      "195\n",
      "200\n"
     ]
    }
   ],
   "source": [
    "'''The number must be divisible by five\n",
    "If the number is greater than 150, then\n",
    " skip it and move to the next number\n",
    " If the number is greater than 500, then stop the loop'''\n",
    "\n",
    "for i in range(100,1000):\n",
    "    if i%5==0:\n",
    "        if i==150:\n",
    "            continue\n",
    "        if i==205:\n",
    "            break\n",
    "            \n",
    "        print(i)"
   ]
  },
  {
   "cell_type": "code",
   "execution_count": 24,
   "id": "164a8ad9",
   "metadata": {},
   "outputs": [
    {
     "name": "stdout",
     "output_type": "stream",
     "text": [
      "50\n",
      "40\n",
      "30\n",
      "20\n",
      "10\n",
      "[50, 40, 30, 20, 10]\n"
     ]
    }
   ],
   "source": [
    "# Print list in reverse order using a for loop?\n",
    "\n",
    "l=[10,20,30,40,50]\n",
    "for i in reversed(l):\n",
    "    print(i)\n",
    "    \n",
    "print([i for i in reversed(l)])"
   ]
  },
  {
   "cell_type": "code",
   "execution_count": 30,
   "id": "be8b7b82",
   "metadata": {},
   "outputs": [
    {
     "name": "stdout",
     "output_type": "stream",
     "text": [
      "-10\n",
      "-9\n",
      "-8\n",
      "-7\n",
      "-6\n",
      "-5\n",
      "-4\n",
      "-3\n",
      "-2\n",
      "-1\n"
     ]
    }
   ],
   "source": [
    "# Display numbers from -10 to -1 using for loop?\n",
    "\n",
    "for i in range(-10,0):\n",
    "    print(i)"
   ]
  },
  {
   "cell_type": "code",
   "execution_count": 31,
   "id": "0ae7aebd",
   "metadata": {},
   "outputs": [
    {
     "name": "stdout",
     "output_type": "stream",
     "text": [
      "1\n",
      "1\n",
      "2\n",
      "3\n",
      "5\n",
      "8\n",
      "13\n",
      "21\n",
      "34\n",
      "55\n"
     ]
    }
   ],
   "source": [
    "def fibonacci(n):\n",
    "    a, b = 0, 1\n",
    "    for i in range(n):\n",
    "        print(b)\n",
    "        a, b = b, a + b\n",
    "\n",
    "fibonacci(10)\n",
    "\n",
    "n = 1\n",
    "while n<=10:\n",
    "    print(\"* \"*n)\n",
    "    n=n+1"
   ]
  },
  {
   "cell_type": "code",
   "execution_count": 9,
   "id": "931715b4",
   "metadata": {},
   "outputs": [
    {
     "name": "stdout",
     "output_type": "stream",
     "text": [
      "even sum: 312\n",
      "odd sum: 325\n",
      "Sum of odd numbers between and is: 325\n",
      "Sum of even numbers between and is: 312\n"
     ]
    }
   ],
   "source": [
    "# Write a program to display sum of odd numbers and even numbers that fall between 12 and 37(including both numbers)\n",
    "start = 12\n",
    "end = 37\n",
    "\n",
    "odd_sum=0\n",
    "even_sum=0\n",
    "for i in range(start,end+1):\n",
    "    if i%2==0:\n",
    "        even_sum+=i\n",
    "    else:\n",
    "        odd_sum+=i\n",
    "print(\"even sum:\",even_sum)\n",
    "print(\"odd sum:\",odd_sum)\n",
    "\n",
    "\n",
    "print(f\"Sum of odd numbers between and is: {odd_sum}\")\n",
    "print(f\"Sum of even numbers between and is: {even_sum}\")\n"
   ]
  },
  {
   "cell_type": "code",
   "execution_count": 1,
   "id": "596a87d7",
   "metadata": {},
   "outputs": [
    {
     "name": "stdout",
     "output_type": "stream",
     "text": [
      "Sum of odd numbers between 12 and 37 is: 325\n",
      "Sum of even numbers between 12 and 37 is: 312\n"
     ]
    }
   ],
   "source": [
    "start = 12\n",
    "end = 37\n",
    "\n",
    "odd_sum = 0\n",
    "even_sum = 0\n",
    "\n",
    "for i in range(start, end+1):\n",
    "    if i % 2 == 0:\n",
    "        even_sum += i\n",
    "    else:\n",
    "        odd_sum += i\n",
    "\n",
    "print(f\"Sum of odd numbers between {start} and {end} is: {odd_sum}\")\n",
    "print(f\"Sum of even numbers between {start} and {end} is: {even_sum}\")\n",
    "\n",
    "\n"
   ]
  },
  {
   "cell_type": "code",
   "execution_count": 9,
   "id": "0e2a5ca2",
   "metadata": {},
   "outputs": [
    {
     "name": "stdout",
     "output_type": "stream",
     "text": [
      "io\n",
      "dsa*1k/pu*\n",
      "dsa*1k/pu*oi\n"
     ]
    }
   ],
   "source": [
    "x='asd*1k/up*io'\n",
    "#expected output: dsa*kl/pu*oi\n",
    "#pynative\n",
    "\n",
    "a=''\n",
    "b=''\n",
    "\n",
    "for i in x:\n",
    "    if i.isalpha():\n",
    "        a=a+i\n",
    "    else:\n",
    "        b=b+a[::-1]+i\n",
    "        a=''\n",
    "    \n",
    "print(a)\n",
    "print(b)\n",
    "print(b+a[::-1])"
   ]
  },
  {
   "cell_type": "code",
   "execution_count": 15,
   "id": "cd9966dc",
   "metadata": {},
   "outputs": [
    {
     "name": "stdout",
     "output_type": "stream",
     "text": [
      "ente the amount: 10500\n",
      "{2000: 5, 500: 1}\n"
     ]
    }
   ],
   "source": [
    "#currency calculator\n",
    "\n",
    "l=[2000,500,200,100,50,20,10,5,2,1]\n",
    "x=int(input(\"ente the amount: \"))\n",
    "a={}\n",
    "for i in l:\n",
    "    if x>=i:\n",
    "        a[i]=x//i\n",
    "        x=x%i\n",
    "print(a)"
   ]
  },
  {
   "cell_type": "code",
   "execution_count": 6,
   "id": "dfbc7359",
   "metadata": {},
   "outputs": [
    {
     "name": "stdout",
     "output_type": "stream",
     "text": [
      "75\n",
      "180\n",
      "145\n"
     ]
    }
   ],
   "source": [
    "x=[12,75,150,180,145,525,50]\n",
    "\n",
    "for i in x:\n",
    "    if i%5==0:\n",
    "        if i==150:\n",
    "            continue\n",
    "        if i>500:\n",
    "                break\n",
    "        print(i)\n",
    "                \n"
   ]
  },
  {
   "cell_type": "code",
   "execution_count": 6,
   "id": "a29fb754",
   "metadata": {},
   "outputs": [
    {
     "name": "stdout",
     "output_type": "stream",
     "text": [
      "4\n",
      "20\n"
     ]
    }
   ],
   "source": [
    "sum=0\n",
    "for i in range(5):\n",
    "    num=2*i\n",
    "    sum+=num\n",
    "print(i)\n",
    "print(sum)\n",
    "    "
   ]
  },
  {
   "cell_type": "code",
   "execution_count": null,
   "id": "197825c2",
   "metadata": {},
   "outputs": [],
   "source": [
    "avg=0\n",
    "sum=0\n",
    "for i in range(10):\n",
    "    x=int(input(\"enter the number\"))\n",
    "    sum=sum+x\n",
    "    avg=sum/10\n",
    "peint(sum)\n",
    "print(avg)\n",
    "    "
   ]
  },
  {
   "cell_type": "markdown",
   "id": "69fa6b88",
   "metadata": {},
   "source": [
    "\n",
    "\n"
   ]
  },
  {
   "cell_type": "code",
   "execution_count": 1,
   "id": "39cabd05",
   "metadata": {},
   "outputs": [
    {
     "name": "stdout",
     "output_type": "stream",
     "text": [
      "A A A A\n",
      "A A A A\n",
      "A A A A\n",
      "A A A A\n"
     ]
    }
   ],
   "source": [
    "a=\"A\"\n",
    "for i in range(4):\n",
    "    print(a ,a ,a ,a)"
   ]
  },
  {
   "cell_type": "code",
   "execution_count": 1,
   "id": "ed40f596",
   "metadata": {},
   "outputs": [
    {
     "name": "stdout",
     "output_type": "stream",
     "text": [
      "* \n",
      "* * \n",
      "* * * \n",
      "* * * * \n",
      "* * * * * \n"
     ]
    }
   ],
   "source": [
    "i = 1\n",
    "while i<=5:\n",
    "    print(\"* \"*i)\n",
    "    i=i+1"
   ]
  },
  {
   "cell_type": "code",
   "execution_count": null,
   "id": "1c429eaf",
   "metadata": {},
   "outputs": [],
   "source": [
    "\n",
    "    \n",
    "    \n",
    "        \n",
    "        \n",
    "    "
   ]
  },
  {
   "cell_type": "code",
   "execution_count": 12,
   "id": "57398f75",
   "metadata": {},
   "outputs": [
    {
     "name": "stdout",
     "output_type": "stream",
     "text": [
      "\n",
      "\n",
      "1\n",
      "12\n",
      "123\n",
      "1234\n",
      "12345\n"
     ]
    }
   ],
   "source": [
    "for i in range(7):\n",
    "    s=\"\"\n",
    "    for j in range(1,i):\n",
    "        s=s+\"\"+str(j)\n",
    "    print(s)\n",
    "#     i=i+1\n",
    "#         j=j+1\n",
    "        "
   ]
  },
  {
   "cell_type": "code",
   "execution_count": null,
   "id": "3007117e",
   "metadata": {},
   "outputs": [],
   "source": [
    "i = 1\n",
    "while i<=5:\n",
    "    s=\"\"\n",
    "    j=0\n",
    "    while j<i:\n",
    "        s=s+str(j)\n",
    "        j=j+1\n",
    "#         print(s)\n",
    "#     i=i+1"
   ]
  },
  {
   "cell_type": "code",
   "execution_count": 3,
   "id": "2a9795bc",
   "metadata": {},
   "outputs": [
    {
     "name": "stdout",
     "output_type": "stream",
     "text": [
      "[1, 2, 3, 4, 5]\n"
     ]
    }
   ],
   "source": [
    "l=[1,2,3,2,3,4,2,3,4,5]\n",
    "d=[]\n",
    "for i in l:\n",
    "    if i not in d:\n",
    "        d.append(i)\n",
    "print(d)"
   ]
  },
  {
   "cell_type": "code",
   "execution_count": 14,
   "id": "77ef1e7c",
   "metadata": {},
   "outputs": [
    {
     "name": "stdout",
     "output_type": "stream",
     "text": [
      "[2, 3, 2, 3, 4, 2, 3, 4, 5, 1]\n",
      "[3, 2, 3, 4, 2, 3, 4, 5, 1]\n",
      "[2, 3, 4, 2, 3, 4, 5, 1]\n",
      "[3, 4, 2, 3, 4, 5, 1]\n",
      "[4, 2, 3, 4, 5, 1]\n",
      "[2, 3, 4, 5, 1]\n",
      "[3, 4, 5, 1, 2]\n",
      "[4, 5, 1, 2, 3]\n",
      "[5, 1, 2, 3, 4]\n",
      "[1, 2, 3, 4, 5]\n",
      "[1, 2, 3, 4, 5]\n"
     ]
    }
   ],
   "source": [
    "l=[1,2,3,2,3,4,2,3,4,5]\n",
    "for i in range(10):\n",
    "    s=l.pop(0)\n",
    "    if s not in l:\n",
    "        l.append(s)\n",
    "    print(l)\n",
    "print(l)\n",
    "    \n",
    "\n",
    "\n",
    "\n",
    "# a=set(l)\n",
    "# print(list(a))"
   ]
  },
  {
   "cell_type": "code",
   "execution_count": 2,
   "id": "377bca07",
   "metadata": {},
   "outputs": [
    {
     "name": "stdout",
     "output_type": "stream",
     "text": [
      "aasd 1234 ^%$#@\n"
     ]
    }
   ],
   "source": [
    "a=\"aasd1234^%$#@\"\n",
    "b=\"\"\n",
    "c=\"\"\n",
    "d=\"\"\n",
    "for i in a:\n",
    "    if i.isalpha():\n",
    "        b=b+i\n",
    "    elif i.isdigit():\n",
    "        c=c+i\n",
    "    else:\n",
    "        d=d+i\n",
    "print(b,c,d)\n",
    "        "
   ]
  },
  {
   "cell_type": "code",
   "execution_count": 7,
   "id": "b1e43ca9",
   "metadata": {},
   "outputs": [
    {
     "ename": "TypeError",
     "evalue": "unsupported operand type(s) for +: 'int' and 'str'",
     "output_type": "error",
     "traceback": [
      "\u001b[0;31m---------------------------------------------------------------------------\u001b[0m",
      "\u001b[0;31mTypeError\u001b[0m                                 Traceback (most recent call last)",
      "\u001b[0;32m/tmp/ipykernel_5638/1784413543.py\u001b[0m in \u001b[0;36m<module>\u001b[0;34m\u001b[0m\n\u001b[1;32m      9\u001b[0m     \u001b[0;32mif\u001b[0m \u001b[0mi\u001b[0m\u001b[0;34m.\u001b[0m\u001b[0misalpha\u001b[0m\u001b[0;34m(\u001b[0m\u001b[0;34m)\u001b[0m\u001b[0;34m:\u001b[0m\u001b[0;34m\u001b[0m\u001b[0;34m\u001b[0m\u001b[0m\n\u001b[1;32m     10\u001b[0m         \u001b[0my\u001b[0m\u001b[0;34m=\u001b[0m\u001b[0my\u001b[0m\u001b[0;34m+\u001b[0m\u001b[0mi\u001b[0m\u001b[0;34m\u001b[0m\u001b[0;34m\u001b[0m\u001b[0m\n\u001b[0;32m---> 11\u001b[0;31m         \u001b[0mq\u001b[0m\u001b[0;34m=\u001b[0m\u001b[0mq\u001b[0m\u001b[0;34m+\u001b[0m\u001b[0mi\u001b[0m\u001b[0;34m\u001b[0m\u001b[0;34m\u001b[0m\u001b[0m\n\u001b[0m\u001b[1;32m     12\u001b[0m     \u001b[0;32melif\u001b[0m \u001b[0mi\u001b[0m\u001b[0;34m.\u001b[0m\u001b[0misdigit\u001b[0m\u001b[0;34m(\u001b[0m\u001b[0;34m)\u001b[0m\u001b[0;34m:\u001b[0m\u001b[0;34m\u001b[0m\u001b[0;34m\u001b[0m\u001b[0m\n\u001b[1;32m     13\u001b[0m         \u001b[0mz\u001b[0m\u001b[0;34m=\u001b[0m\u001b[0mz\u001b[0m\u001b[0;34m+\u001b[0m\u001b[0mi\u001b[0m\u001b[0;34m\u001b[0m\u001b[0;34m\u001b[0m\u001b[0m\n",
      "\u001b[0;31mTypeError\u001b[0m: unsupported operand type(s) for +: 'int' and 'str'"
     ]
    }
   ],
   "source": [
    "x=\"erty3456##$%^\"\n",
    "y=\"\"\n",
    "z=\"\"\n",
    "p=\"\"\n",
    "q=0\n",
    "r=0\n",
    "s=0\n",
    "for i in x:\n",
    "    if i.isalpha():\n",
    "        y=y+i\n",
    "        q=q+i\n",
    "    elif i.isdigit():\n",
    "        z=z+i\n",
    "        r=r+int(i)\n",
    "    else:\n",
    "        p=p+i\n",
    "        s=s+i\n",
    "        \n",
    "print(y,q,z,r,p,s)"
   ]
  },
  {
   "cell_type": "code",
   "execution_count": 17,
   "id": "193d0d90",
   "metadata": {},
   "outputs": [
    {
     "name": "stdout",
     "output_type": "stream",
     "text": [
      "12 x 1 = 12\n",
      "12 x 2 = 24\n",
      "12 x 3 = 36\n",
      "12 x 4 = 48\n",
      "12 x 5 = 60\n",
      "12 x 6 = 72\n",
      "12 x 7 = 84\n",
      "12 x 8 = 96\n",
      "12 x 9 = 108\n",
      "12 x 10 = 120\n"
     ]
    }
   ],
   "source": [
    "num=12\n",
    "for i in range(1, 11):\n",
    "   print(num, 'x', i, '=', num*i)"
   ]
  },
  {
   "cell_type": "code",
   "execution_count": 12,
   "id": "a4c8b21e",
   "metadata": {},
   "outputs": [
    {
     "name": "stdout",
     "output_type": "stream",
     "text": [
      "df\n",
      "fd/dw*fc/\n",
      "fd/dw*fc/fd\n"
     ]
    }
   ],
   "source": [
    "s=\"df/wd*cf/df\"\n",
    "t=\"\"\n",
    "u=\"\"\n",
    "for i in s:\n",
    "    if i.isalpha():\n",
    "        t=t+i\n",
    "    else:\n",
    "        u=u+t[::-1]+i\n",
    "        t=''\n",
    "    \n",
    "print(t)\n",
    "print(u)\n",
    "print(u+t[::-1])\n",
    "        "
   ]
  },
  {
   "cell_type": "code",
   "execution_count": 16,
   "id": "91be97c5",
   "metadata": {},
   "outputs": [
    {
     "name": "stdout",
     "output_type": "stream",
     "text": [
      "[12, 14, 16, 18, 20, 22, 24, 26, 28, 30, 32, 34, 36] sum of odd 312\n",
      "[13, 15, 17, 19, 21, 23, 25, 27, 29, 31, 33, 35, 37] sum od even 325\n"
     ]
    }
   ],
   "source": [
    "a=[]\n",
    "b=[]\n",
    "odd_sum = 0\n",
    "even_sum = 0\n",
    "for i in range(12,37+1):\n",
    "    if i%2==0:\n",
    "        a.append(i)\n",
    "        odd_sum=odd_sum+i\n",
    "    else:\n",
    "        b.append(i)\n",
    "        even_sum=even_sum+i\n",
    "\n",
    "print(a,'sum of odd',odd_sum)\n",
    "print(b,\"sum od even\", even_sum)\n",
    "    "
   ]
  },
  {
   "cell_type": "code",
   "execution_count": 1,
   "id": "bcc58815",
   "metadata": {},
   "outputs": [
    {
     "name": "stdout",
     "output_type": "stream",
     "text": [
      "# # # \n",
      "# # # \n",
      "# # # \n"
     ]
    }
   ],
   "source": [
    "# pattern\n",
    "#  0,0 0,1 0,2\n",
    "#  1,0 1,1 1,2\n",
    "#  2,0 2,1 2,2\n",
    "\n",
    "for i in range(3):\n",
    "    for j in range(3):\n",
    "        print(\"#\",end=\" \")\n",
    "    print()"
   ]
  },
  {
   "cell_type": "code",
   "execution_count": 3,
   "id": "67921687",
   "metadata": {},
   "outputs": [
    {
     "name": "stdout",
     "output_type": "stream",
     "text": [
      "# * * \n",
      "* # * \n",
      "* * # \n"
     ]
    }
   ],
   "source": [
    "#  # * *\n",
    "#  * # *\n",
    "#  * * #\n",
    "\n",
    "for i in range (3):\n",
    "    for j in range(3):\n",
    "        if i==j:\n",
    "            print(\"#\",end=\" \")\n",
    "        else:\n",
    "            print(\"*\",end=\" \")\n",
    "    print()"
   ]
  },
  {
   "cell_type": "code",
   "execution_count": 4,
   "id": "3be0198b",
   "metadata": {},
   "outputs": [
    {
     "name": "stdout",
     "output_type": "stream",
     "text": [
      "* # # \n",
      "# * # \n",
      "# # * \n"
     ]
    }
   ],
   "source": [
    "for i in range (3):\n",
    "    for j in range(3):\n",
    "        if i==j:\n",
    "            print(\"*\",end=\" \")\n",
    "        else:\n",
    "            print(\"#\",end=\" \")\n",
    "    print()"
   ]
  },
  {
   "cell_type": "code",
   "execution_count": 6,
   "id": "bc756a66",
   "metadata": {},
   "outputs": [
    {
     "name": "stdout",
     "output_type": "stream",
     "text": [
      "* * # \n",
      "* # * \n",
      "# * * \n"
     ]
    }
   ],
   "source": [
    "for i in range(3):\n",
    "    for j in range(3):\n",
    "        if i+j==2:\n",
    "            print(\"#\",end=\" \")\n",
    "        else:\n",
    "            print(\"*\",end=\" \")\n",
    "    print()"
   ]
  },
  {
   "cell_type": "code",
   "execution_count": 8,
   "id": "a88285a2",
   "metadata": {},
   "outputs": [
    {
     "name": "stdout",
     "output_type": "stream",
     "text": [
      "# * # \n",
      "# * # \n",
      "# * # \n"
     ]
    }
   ],
   "source": [
    "#  # * #\n",
    "#  # * #\n",
    "#  # * #\n",
    "\n",
    "for i in range(3):\n",
    "    for j in range(3):\n",
    "        if j==1:\n",
    "            print(\"*\",end=\" \")\n",
    "        else:\n",
    "            print(\"#\",end=\" \")\n",
    "    print()"
   ]
  },
  {
   "cell_type": "code",
   "execution_count": 9,
   "id": "dba9eb2c",
   "metadata": {},
   "outputs": [
    {
     "name": "stdout",
     "output_type": "stream",
     "text": [
      "* # # \n",
      "* # # \n",
      "* # # \n"
     ]
    }
   ],
   "source": [
    "for i in range(3):\n",
    "    for j in range(3):\n",
    "        if j==0:\n",
    "            print(\"*\",end=\" \")\n",
    "        else:\n",
    "            print(\"#\",end=\" \")\n",
    "    print()"
   ]
  },
  {
   "cell_type": "code",
   "execution_count": 10,
   "id": "b487e6a8",
   "metadata": {},
   "outputs": [
    {
     "name": "stdout",
     "output_type": "stream",
     "text": [
      "# * $ \n",
      "# * $ \n",
      "# * $ \n"
     ]
    }
   ],
   "source": [
    "#  # * $\n",
    "#  # * $\n",
    "#  # * $\n",
    "\n",
    "for i in range(3):\n",
    "    for j in range(3):\n",
    "        if j==0:\n",
    "            print(\"#\",end=\" \")\n",
    "        elif j==1:\n",
    "            print(\"*\",end=\" \")\n",
    "        else:\n",
    "            print(\"$\",end=\" \")\n",
    "    print()"
   ]
  },
  {
   "cell_type": "code",
   "execution_count": 5,
   "id": "b6755e42",
   "metadata": {},
   "outputs": [
    {
     "ename": "SyntaxError",
     "evalue": "invalid syntax (3846913790.py, line 9)",
     "output_type": "error",
     "traceback": [
      "\u001b[0;36m  File \u001b[0;32m\"/tmp/ipykernel_3582/3846913790.py\"\u001b[0;36m, line \u001b[0;32m9\u001b[0m\n\u001b[0;31m    elif\u001b[0m\n\u001b[0m         ^\u001b[0m\n\u001b[0;31mSyntaxError\u001b[0m\u001b[0;31m:\u001b[0m invalid syntax\n"
     ]
    }
   ],
   "source": [
    "#  # $ ^\n",
    "#  @ & *\n",
    "#  ~ / ?\n",
    "\n",
    "for i in range(3):\n",
    "    for j in range(3):\n",
    "        if i==0 and j==0:\n",
    "            print(\"#\",end=\" \")\n",
    "        elif i==0 "
   ]
  },
  {
   "cell_type": "code",
   "execution_count": 1,
   "id": "3b6e66ef",
   "metadata": {},
   "outputs": [
    {
     "name": "stdout",
     "output_type": "stream",
     "text": [
      "* \n",
      "* * \n",
      "* * * \n",
      "* * * * \n",
      "* * * * * \n"
     ]
    }
   ],
   "source": [
    "for i in range(5):\n",
    "    for j in range(i+1):\n",
    "        print(\"*\",end=\" \")\n",
    "    print()\n",
    "    \n",
    "    \n",
    "    \n",
    "    "
   ]
  },
  {
   "cell_type": "code",
   "execution_count": 3,
   "id": "19f840cc",
   "metadata": {},
   "outputs": [
    {
     "name": "stdout",
     "output_type": "stream",
     "text": [
      "Enter the number10\n",
      "Not prime number\n"
     ]
    }
   ],
   "source": [
    "x=int(input(\"Enter the number\"))\n",
    "a=1\n",
    "if x==1 or x==1:\n",
    "    a=0\n",
    "for i in range(2,x):\n",
    "    if x%i==0:\n",
    "        a=0\n",
    "if a==1:\n",
    "    print(\"Prime number\")\n",
    "else:\n",
    "    print(\"Not prime number\")\n",
    "\n",
    "\n"
   ]
  },
  {
   "cell_type": "code",
   "execution_count": 3,
   "id": "647b28f6",
   "metadata": {},
   "outputs": [
    {
     "name": "stdout",
     "output_type": "stream",
     "text": [
      "* * * * * * \n",
      "* * * * * \n",
      "* * * * \n",
      "* * * \n",
      "* * \n",
      "* \n"
     ]
    }
   ],
   "source": [
    "for i in range(6):\n",
    "    for j in range(6-i):\n",
    "        print(\"*\",end=\" \")\n",
    "    print()"
   ]
  },
  {
   "cell_type": "code",
   "execution_count": 6,
   "id": "7d3ffc00",
   "metadata": {},
   "outputs": [
    {
     "name": "stdout",
     "output_type": "stream",
     "text": [
      "* \n",
      "* * \n",
      "* * * \n",
      "* * * * \n",
      "* * * * * \n",
      "* * * * * * \n"
     ]
    }
   ],
   "source": [
    "for i in range(6):\n",
    "    for j in range(i+1):\n",
    "        print(\"*\",end=\" \")\n",
    "    print()"
   ]
  },
  {
   "cell_type": "code",
   "execution_count": 13,
   "id": "fc92af74",
   "metadata": {},
   "outputs": [
    {
     "name": "stdout",
     "output_type": "stream",
     "text": [
      "* \n",
      "* * \n",
      "* * * \n",
      "* * * * \n",
      "* * * \n",
      "* * \n",
      "* \n"
     ]
    }
   ],
   "source": [
    "for i in range(4):\n",
    "    for j in range(i+1):\n",
    "        print(\"*\",end=\" \")\n",
    "    print()\n",
    "for i in range(3):\n",
    "    for j in range(3-i):\n",
    "        print(\"*\",end=\" \")\n",
    "    print()"
   ]
  },
  {
   "cell_type": "code",
   "execution_count": 27,
   "id": "b2bee441",
   "metadata": {},
   "outputs": [
    {
     "name": "stdout",
     "output_type": "stream",
     "text": [
      "          * \n",
      "        * * \n",
      "      * * * \n",
      "    * * * * \n",
      "  * * * * * \n"
     ]
    }
   ],
   "source": [
    "for i in range(5):\n",
    "    for j in range(5-i):\n",
    "        print(\" \",end=\" \")\n",
    "    for k in range(i+1):\n",
    "        print(\"*\",end=\" \")\n",
    "    print()"
   ]
  },
  {
   "cell_type": "code",
   "execution_count": 16,
   "id": "d75bb1e7",
   "metadata": {},
   "outputs": [
    {
     "name": "stdout",
     "output_type": "stream",
     "text": [
      "  * * * * * \n",
      "    * * * * \n",
      "      * * * \n",
      "        * * \n",
      "          * \n"
     ]
    }
   ],
   "source": [
    "for i in range(5):\n",
    "    for j in range(i+1):\n",
    "        print(\" \",end=\" \")\n",
    "    for k in range(5-i):\n",
    "        print(\"*\",end=\" \")\n",
    "    print()"
   ]
  },
  {
   "cell_type": "code",
   "execution_count": 23,
   "id": "ed9da593",
   "metadata": {},
   "outputs": [
    {
     "name": "stdout",
     "output_type": "stream",
     "text": [
      "      *\n",
      "     * *\n",
      "    * * *\n",
      "   * * * *\n",
      "  * * * * *\n"
     ]
    }
   ],
   "source": [
    "for i in range(5):\n",
    "    for j in range(5-i):\n",
    "        print(\"\",end=\" \")\n",
    "    for k in range(i+1):\n",
    "        print(\" \",end=\"*\")\n",
    "    print()"
   ]
  },
  {
   "cell_type": "code",
   "execution_count": 29,
   "id": "d3e2c222",
   "metadata": {},
   "outputs": [
    {
     "name": "stdout",
     "output_type": "stream",
     "text": [
      "* * * * * \n",
      " * * * * \n",
      "  * * * \n",
      "   * * \n",
      "    * \n"
     ]
    }
   ],
   "source": [
    "for i in range(5):\n",
    "    for j in range(i):\n",
    "        print(end=\" \")\n",
    "    for k in range(5-i):\n",
    "        print(\"*\",end=\" \")\n",
    "    print()"
   ]
  },
  {
   "cell_type": "code",
   "execution_count": 39,
   "id": "d03aa9b9",
   "metadata": {},
   "outputs": [
    {
     "name": "stdout",
     "output_type": "stream",
     "text": [
      "     * \n",
      "    * * \n",
      "   * * * \n",
      "  * * * * \n",
      " * * * * * \n",
      " * * * * \n",
      "  * * * \n",
      "   * * \n",
      "    * \n"
     ]
    }
   ],
   "source": [
    "for i in range(5):\n",
    "    for j in range(5-i):\n",
    "        print(\" \",end=\"\")\n",
    "    for k in range(i+1):\n",
    "        print(\"*\",end=\" \")\n",
    "    print()\n",
    "for i in range(1,5):\n",
    "    for j in range(i):\n",
    "        print(end=\" \")\n",
    "    for k in range(5-i):\n",
    "        print(\"*\",end=\" \")\n",
    "    print()"
   ]
  },
  {
   "cell_type": "code",
   "execution_count": 3,
   "id": "8ba5f7d3",
   "metadata": {},
   "outputs": [
    {
     "name": "stdout",
     "output_type": "stream",
     "text": [
      "a \n",
      "b b \n",
      "c c c \n",
      "d d d d \n"
     ]
    }
   ],
   "source": [
    "for i in range(1,5):\n",
    "    for j in range(i):\n",
    "        print(chr(96+i),end=\" \")\n",
    "    print()"
   ]
  },
  {
   "cell_type": "code",
   "execution_count": 4,
   "id": "1c531b47",
   "metadata": {},
   "outputs": [
    {
     "name": "stdout",
     "output_type": "stream",
     "text": [
      "A \n",
      "B B \n",
      "C C C \n",
      "D D D D \n",
      "E E E E E \n"
     ]
    }
   ],
   "source": [
    "for i in range(65,70):\n",
    "    for j in range(64,i):\n",
    "        print(chr(i),end=\" \")\n",
    "    print()"
   ]
  },
  {
   "cell_type": "code",
   "execution_count": 29,
   "id": "51ed6f5d",
   "metadata": {},
   "outputs": [
    {
     "name": "stdout",
     "output_type": "stream",
     "text": [
      "num: 345678\n",
      "alpha: dcfergth\n",
      "special chr: %$##$%\n",
      "33\n"
     ]
    }
   ],
   "source": [
    "a=\"345678dcfergth%$##$%\"\n",
    "b=\"\"\n",
    "c=\"\"\n",
    "d=\"\"\n",
    "e=0\n",
    "f=0\n",
    "g=0\n",
    "for i in a:\n",
    "    if i.isdigit():\n",
    "        b=b+i\n",
    "        e=e+int(i)\n",
    "    elif i.isalpha():\n",
    "        c=c+i\n",
    "        f=f+1\n",
    "    else:\n",
    "        d=d+i\n",
    "        g=g+1\n",
    "print(f\"num: {b}\\nalpha: {c}\\nspecial chr: {d}\")\n",
    "print(e)"
   ]
  },
  {
   "cell_type": "code",
   "execution_count": 1,
   "id": "c025255f",
   "metadata": {},
   "outputs": [
    {
     "name": "stdout",
     "output_type": "stream",
     "text": [
      "Vivek\n",
      "1\n",
      "12\n",
      "123\n",
      "1234\n",
      "12345\n"
     ]
    }
   ],
   "source": [
    "print(\"Vivek\")\n",
    "i = 1\n",
    "while i <= 5:\n",
    "    s = \"\"\n",
    "    j = 1\n",
    "    while j <= i:\n",
    "        s = s + str(j)\n",
    "        j = j + 1\n",
    "    print(s)\n",
    "    i = i + 1"
   ]
  },
  {
   "cell_type": "code",
   "execution_count": 7,
   "id": "dd2fdd18",
   "metadata": {},
   "outputs": [
    {
     "name": "stdout",
     "output_type": "stream",
     "text": [
      "enter your range30\n",
      "0\n",
      "1\n",
      "2\n",
      "3\n",
      "4\n",
      "5\n",
      "6\n",
      "7\n",
      "8\n",
      "9\n",
      "sum:  45\n",
      "mul:  46\n"
     ]
    }
   ],
   "source": [
    "#  loop\n",
    "n=int(input(\"enter your range\"))\n",
    "i=0\n",
    "sum1=0\n",
    "mul=1\n",
    "while i<=9:\n",
    "    print(i)\n",
    "    sum1=sum1+i\n",
    "    mul=mul+i\n",
    "    i+=1\n",
    "avg=sum1/n\n",
    "print(\"sum: \",sum1)\n",
    "print(\"mul: \",mul)\n",
    "    \n",
    "    \n",
    "    "
   ]
  },
  {
   "cell_type": "code",
   "execution_count": 3,
   "id": "f551608a",
   "metadata": {},
   "outputs": [
    {
     "ename": "SyntaxError",
     "evalue": "invalid syntax (1104026056.py, line 17)",
     "output_type": "error",
     "traceback": [
      "\u001b[0;36m  File \u001b[0;32m\"/tmp/ipykernel_5144/1104026056.py\"\u001b[0;36m, line \u001b[0;32m17\u001b[0m\n\u001b[0;31m    else:\u001b[0m\n\u001b[0m    ^\u001b[0m\n\u001b[0;31mSyntaxError\u001b[0m\u001b[0;31m:\u001b[0m invalid syntax\n"
     ]
    }
   ],
   "source": [
    "import randam\n",
    "win_num=random.randint(1,100)\n",
    "n=int(input(\"enter the number: \"))\n",
    "\n",
    "Game_over=False\n",
    "\n",
    "while not Game_over:\n",
    "    \n",
    "    if n==win_num:\n",
    "        print(\"You Won!!!\")\n",
    "        Game_over=True\n",
    "        \n",
    "    else:\n",
    "        if n<win_num:\n",
    "            print(\"To low\")\n",
    "            n=int((\"inter the number again\")\n",
    "        else:\n",
    "                  print(\"to High\")\n",
    "                  print(\"You Lose!!!\")\n",
    "    \n",
    "    \n"
   ]
  },
  {
   "cell_type": "markdown",
   "id": "618616ec",
   "metadata": {},
   "source": [
    "## "
   ]
  },
  {
   "cell_type": "code",
   "execution_count": 4,
   "id": "62f4d338",
   "metadata": {},
   "outputs": [
    {
     "name": "stdout",
     "output_type": "stream",
     "text": [
      "1\n",
      "2\n",
      "3\n",
      "4\n",
      "5\n",
      "6\n",
      "7\n",
      "8\n",
      "9\n",
      "10\n"
     ]
    }
   ],
   "source": [
    "for i in range(1,11):\n",
    "    if i>=5 or i<=7:\n",
    "        pass\n",
    "    print(i)"
   ]
  },
  {
   "cell_type": "code",
   "execution_count": 5,
   "id": "72af236d",
   "metadata": {},
   "outputs": [
    {
     "name": "stdout",
     "output_type": "stream",
     "text": [
      "1\n",
      "2\n"
     ]
    }
   ],
   "source": [
    "i=1\n",
    "while True:\n",
    "    if i%3==0:\n",
    "        break\n",
    "    print(i)\n",
    "    i+=1"
   ]
  },
  {
   "cell_type": "code",
   "execution_count": 1,
   "id": "fc3338b2",
   "metadata": {},
   "outputs": [
    {
     "name": "stdout",
     "output_type": "stream",
     "text": [
      "10\n",
      "9\n",
      "8\n",
      "7\n",
      "6\n",
      "5\n",
      "4\n",
      "3\n",
      "2\n"
     ]
    }
   ],
   "source": [
    "for i in range(10,1,-1):\n",
    "    print(i)"
   ]
  },
  {
   "cell_type": "code",
   "execution_count": 1,
   "id": "afbf5893",
   "metadata": {},
   "outputs": [
    {
     "name": "stdout",
     "output_type": "stream",
     "text": [
      "0\n",
      "1\n",
      "2\n",
      "3\n",
      "4\n",
      "5\n"
     ]
    }
   ],
   "source": [
    "i=0\n",
    "while(i<=5):\n",
    "    print(i)\n",
    "    i+=1"
   ]
  },
  {
   "cell_type": "code",
   "execution_count": 11,
   "id": "b0218a16",
   "metadata": {},
   "outputs": [
    {
     "name": "stdout",
     "output_type": "stream",
     "text": [
      "enter the number: 27\n",
      "the factor of 27 is:  1\n",
      "the factor of 27 is:  3\n",
      "the factor of 27 is:  9\n",
      "the factor of 27 is:  27\n"
     ]
    }
   ],
   "source": [
    "num = int(input(\"enter the number: \"))\n",
    "for i in range(1,num+1):\n",
    "    if num%i==0:\n",
    "        print(\"the factor of\",num,\"is: \",i)\n"
   ]
  },
  {
   "cell_type": "code",
   "execution_count": 16,
   "id": "4a6b3c85",
   "metadata": {},
   "outputs": [
    {
     "name": "stdout",
     "output_type": "stream",
     "text": [
      "1\n",
      "2\n",
      "fizz\n",
      "4\n",
      "buzz\n",
      "fizz\n",
      "7\n",
      "8\n",
      "fizz\n",
      "buzz\n",
      "11\n",
      "fizz\n",
      "13\n",
      "14\n",
      "fizz buzz\n"
     ]
    }
   ],
   "source": [
    "for i in range(1,15+1):\n",
    "    if i%5==0 and i%3==0:\n",
    "        print('fizz buzz')\n",
    "    elif i%3==0:\n",
    "        print(\"fizz\")\n",
    "    elif i%5==0:\n",
    "        print(\"buzz\")\n",
    "    else:\n",
    "        print(i)\n",
    "    "
   ]
  },
  {
   "cell_type": "code",
   "execution_count": 17,
   "id": "f214c16a",
   "metadata": {},
   "outputs": [
    {
     "name": "stdout",
     "output_type": "stream",
     "text": [
      "7 6\n"
     ]
    }
   ],
   "source": [
    "# fibbonacci series\n",
    "x=6\n",
    "y=7\n",
    "x,y=y,x\n",
    "print(x,y)"
   ]
  },
  {
   "cell_type": "code",
   "execution_count": 22,
   "id": "c59e2600",
   "metadata": {},
   "outputs": [
    {
     "name": "stdout",
     "output_type": "stream",
     "text": [
      "enter the number: 100\n",
      "0\n",
      "1\n",
      "1\n",
      "2\n",
      "3\n",
      "5\n",
      "8\n",
      "13\n",
      "21\n",
      "34\n",
      "55\n",
      "89\n"
     ]
    }
   ],
   "source": [
    "# fibbonacci series\n",
    "num = int(input(\"enter the number: \"))\n",
    "n,n1=0,1\n",
    "while n<=num:\n",
    "    print(n)\n",
    "    n,n1=n1,n+n1\n",
    "\n"
   ]
  },
  {
   "cell_type": "code",
   "execution_count": 26,
   "id": "ac4c7799",
   "metadata": {},
   "outputs": [
    {
     "name": "stdout",
     "output_type": "stream",
     "text": [
      "enter the number: 10\n"
     ]
    }
   ],
   "source": [
    "num = int(input(\"enter the number: \"))\n",
    "rev = 0\n",
    "while num > 0:\n",
    "    rem = num%10\n",
    "    rev = (rev*10) + rem\n",
    "    num = num//10\n",
    "    "
   ]
  },
  {
   "cell_type": "code",
   "execution_count": 27,
   "id": "c6f78658",
   "metadata": {},
   "outputs": [
    {
     "name": "stdout",
     "output_type": "stream",
     "text": [
      "4321\n"
     ]
    }
   ],
   "source": [
    "x=1234\n",
    "x=str(x)\n",
    "x=x[::-1]\n",
    "x=int(x)\n",
    "print(x)"
   ]
  },
  {
   "cell_type": "code",
   "execution_count": 28,
   "id": "1bb8746f",
   "metadata": {},
   "outputs": [],
   "source": [
    "# wap to print the factorial of a number\n",
    "# check the given string is palindrome or not\n",
    "# check the given the number is palindrome or not\n",
    "# print the star pattern given bellow\n",
    "# *\n",
    "# * *\n",
    "# * * *\n",
    "# * * * *\n",
    "# * * * * *\n",
    "# check the given input number is prime or not"
   ]
  },
  {
   "cell_type": "code",
   "execution_count": 29,
   "id": "fa4dd8d7",
   "metadata": {},
   "outputs": [
    {
     "name": "stdout",
     "output_type": "stream",
     "text": [
      "15\n",
      "pink 4\n"
     ]
    }
   ],
   "source": [
    "c = lambda x,y,z : x+y+z\n",
    "print(c(4,5,6))\n",
    "\n",
    "def xyz(n):\n",
    "  return lambda x:x*n\n",
    "z = xyz(7)\n",
    "\n",
    "import random\n",
    "\n",
    "x = [\"yellow\",\"green\",\"pink\"]\n",
    "y = random.choice(x)\n",
    "z = random.randint(1,12)\n",
    "print(y,z)"
   ]
  },
  {
   "cell_type": "code",
   "execution_count": 30,
   "id": "3d101347",
   "metadata": {},
   "outputs": [
    {
     "ename": "TypeError",
     "evalue": "can only concatenate str (not \"int\") to str",
     "output_type": "error",
     "traceback": [
      "\u001b[0;31m---------------------------------------------------------------------------\u001b[0m",
      "\u001b[0;31mTypeError\u001b[0m                                 Traceback (most recent call last)",
      "\u001b[0;32m/tmp/ipykernel_5655/3932181339.py\u001b[0m in \u001b[0;36m<module>\u001b[0;34m\u001b[0m\n\u001b[1;32m      2\u001b[0m \u001b[0mi\u001b[0m\u001b[0;34m=\u001b[0m\u001b[0;36m0\u001b[0m\u001b[0;34m\u001b[0m\u001b[0;34m\u001b[0m\u001b[0m\n\u001b[1;32m      3\u001b[0m \u001b[0;32mwhile\u001b[0m \u001b[0mi\u001b[0m\u001b[0;34m<=\u001b[0m\u001b[0mx\u001b[0m\u001b[0;34m:\u001b[0m\u001b[0;34m\u001b[0m\u001b[0;34m\u001b[0m\u001b[0m\n\u001b[0;32m----> 4\u001b[0;31m     \u001b[0mprint\u001b[0m\u001b[0;34m(\u001b[0m\u001b[0;34m\"*\"\u001b[0m\u001b[0;34m+\u001b[0m\u001b[0mi\u001b[0m\u001b[0;34m)\u001b[0m\u001b[0;34m\u001b[0m\u001b[0;34m\u001b[0m\u001b[0m\n\u001b[0m\u001b[1;32m      5\u001b[0m \u001b[0;34m\u001b[0m\u001b[0m\n",
      "\u001b[0;31mTypeError\u001b[0m: can only concatenate str (not \"int\") to str"
     ]
    }
   ],
   "source": [
    "x = 10\n",
    "i=0\n",
    "while i<=x:\n",
    "    print(\"*\"+i)\n",
    "    "
   ]
  },
  {
   "cell_type": "code",
   "execution_count": 1,
   "id": "3dbe54fe",
   "metadata": {},
   "outputs": [],
   "source": [
    "# tki.py\n",
    "import tkinter.messagebox as tmsg\n",
    "from tkinter import *\n",
    "\n",
    "root = Tk()\n",
    "root.title(\"my GUI\")\n",
    "############ geometry  ######\n",
    "\n",
    "root.geometry(\"400x400\")\n",
    "\n",
    "root.minsize(200, 200)\n",
    "root.maxsize(1200, 200)\n",
    "\n",
    "############################### Label ############\n",
    "\n",
    "# label = Label(text=\"this is my label\", bg=\"red\",\n",
    "#               fg=\"white\", padx=30, pady=40, borderwidth=50)\n",
    "\n",
    "\n",
    "#################### BUTTON ############################\n",
    "\n",
    "# def hello():\n",
    "#     print(\"Hello how are you?\")\n",
    "\n",
    "\n",
    "# def name():\n",
    "#     print(\"I am fine....\")\n",
    "\n",
    "\n",
    "# frame = Frame(root, borderwidth=6, bg=\"yellow\")\n",
    "# frame.pack(side=LEFT, anchor=\"nw\")\n",
    "\n",
    "# # frame = Frame(root, borderwidth=6, bg=\"grey\")\n",
    "# # frame.pack(side=LEFT, anchor=\"nw\")\n",
    "\n",
    "# b1 = Button(frame,fg=\"red\", text=\"click me\", command=hello)\n",
    "# b1.pack(side=RIGHT, padx=23)\n",
    "\n",
    "# b2 = Button(frame, fg=\"red\", text=\"click me 1\", command=name)\n",
    "# b2.pack(side=LEFT, padx=23)\n",
    "\n",
    "# b3 = Button(frame, fg=\"red\", text=\"click me 2\")\n",
    "# b3.pack(side=LEFT, padx=23)\n",
    "\n",
    "\n",
    "############################### GRID ###########################\n",
    "\n",
    "\n",
    "# def getvals():\n",
    "#     print(f\"The value of username is {uservalue.get()}\")\n",
    "#     print(f\"The value of lastname is {lNamevalue.get()}\")\n",
    "#     print(f\"food ordered = {foodservicevalue.get()}\")\n",
    "\n",
    "\n",
    "# userName = Label(root, text=\"Username\")\n",
    "# Lastname = Label(root, text=\"lastname\")\n",
    "# userName.grid()\n",
    "# Lastname.grid(row=1)\n",
    "\n",
    "# # # Variable classes in tkinter\n",
    "# # # BooleanVar, DoubleVar, IntVar, StringVar\n",
    "\n",
    "# uservalue = StringVar()\n",
    "# lNamevalue = StringVar()\n",
    "# foodservicevalue = IntVar()\n",
    "\n",
    "# userentry = Entry(root, textvariable=uservalue)\n",
    "# lnamentry = Entry(root, textvariable=lNamevalue)\n",
    "\n",
    "# userentry.grid(row=0, column=1)\n",
    "# lnamentry.grid(row=1, column=1)\n",
    "# foodservice = Checkbutton(\n",
    "#     text=\"Want to prebook your meals?\", variable=foodservicevalue)\n",
    "# foodservice.grid(row=6, column=3)\n",
    "\n",
    "# Button(text=\"Submit\", command=getvals).grid()\n",
    "\n",
    "################## Event Handling ###################\n",
    "\n",
    "# def show(event):\n",
    "#     print(f\"You clicked on the button at {event.x}\")\n",
    "\n",
    "\n",
    "# c = Button(root,  text=\"click here\")\n",
    "# c.pack()\n",
    "\n",
    "# c.bind('<Button>', show)\n",
    "\n",
    "####################  SCALE #########################\n",
    "\n",
    "\n",
    "# def getdollar():\n",
    "#     print(f\"We have credited {myslider2.get()} points to your credit score\")\n",
    "#     tmsg.showinfo(\"point Credited!\",\n",
    "#                   f\"We have credited {myslider2.get()} dollars to your bank account\")\n",
    "\n",
    "\n",
    "# Label(root, text=\"How many dollars do you want?\").pack()\n",
    "# myslider2 = Scale(root, from_=0, to=100, orient=HORIZONTAL, tickinterval=50)\n",
    "# # myslider2.set(34)\n",
    "# myslider2.pack()\n",
    "\n",
    "\n",
    "# Button(root, text=\"Get dollars!\", pady=10, command=getdollar).pack()\n",
    "\n",
    "\n",
    "##################### Radiobutton #############\n",
    "\n",
    "# def order():\n",
    "\n",
    "#     tmsg.showinfo(\"Order Received!\",\n",
    "#                   f\"We have received your order for {var.get()}. Thanks for ordering\")\n",
    "\n",
    "\n",
    "# # var = IntVar()\n",
    "# var = StringVar()\n",
    "# var.set(\"Radio\")\n",
    "# # var.set(1)\n",
    "# Label(root, text=\"What would you like to have sir?\", font=\"lucida 19 bold\",\n",
    "#       justify=LEFT, padx=14).pack()\n",
    "# radio = Radiobutton(root, text=\"Audi\", padx=14,\n",
    "#                     variable=var, value=\"audi\").pack(anchor=\"w\")\n",
    "# radio = Radiobutton(root, text=\"Bmw\", padx=14,\n",
    "#                     variable=var, value=\"Bmw\").pack(anchor=\"w\")\n",
    "# radio = Radiobutton(root, text=\"volvo\", padx=14,\n",
    "#                     variable=var, value=\"volvo\").pack(anchor=\"w\")\n",
    "# radio = Radiobutton(root, text=\"Tata\", padx=14,\n",
    "#                     variable=var, value=\"Tata\").pack(anchor=\"w\")\n",
    "\n",
    "# Button(text=\"Book Car\", command=order).pack()\n",
    "\n",
    "\n",
    "##################### dropdown ##################\n",
    "\n",
    "def show():\n",
    "    label.config(text=clicked.get())\n",
    "\n",
    "\n",
    "# Dropdown menu options\n",
    "options = [\n",
    "    \"Monday\",\n",
    "    \"Tuesday\",\n",
    "    \"Wednesday\",\n",
    "    \"Thursday\",\n",
    "    \"Friday\",\n",
    "    \"Saturday\",\n",
    "    \"Sunday\"\n",
    "]\n",
    "\n",
    "# datatype of menu text\n",
    "clicked = StringVar()\n",
    "\n",
    "# initial menu text\n",
    "clicked.set(\"Monday\")\n",
    "\n",
    "# Create Dropdown menu\n",
    "drop = OptionMenu(root, clicked, *options)\n",
    "drop.pack()\n",
    "\n",
    "# Create button, it will change label text\n",
    "button = Button(root, text=\"click Me\", command=show).pack()\n",
    "\n",
    "# # Create Label\n",
    "label = Label(root, text=\" \")\n",
    "label.pack()\n",
    "root.mainloop()"
   ]
  },
  {
   "cell_type": "code",
   "execution_count": 4,
   "id": "39c086fc",
   "metadata": {},
   "outputs": [
    {
     "name": "stdout",
     "output_type": "stream",
     "text": [
      "enter the number: 5\n",
      "factorial of 5 is 120\n"
     ]
    }
   ],
   "source": [
    "num = int(input(\"enter the number: \"))\n",
    "fact = 1\n",
    "if num<0:\n",
    "    print(\"sorry, factorial doesen't exist for negative numbers\")\n",
    "elif num==0:\n",
    "    print('the factorial of 0 is 1')\n",
    "else:\n",
    "    for i in range(1,num+1):\n",
    "        fact = fact*i\n",
    "print(f\"factorial of {num} is {fact}\")"
   ]
  },
  {
   "cell_type": "code",
   "execution_count": null,
   "id": "1966dda6",
   "metadata": {},
   "outputs": [],
   "source": []
  }
 ],
 "metadata": {
  "kernelspec": {
   "display_name": "Python 3 (ipykernel)",
   "language": "python",
   "name": "python3"
  },
  "language_info": {
   "codemirror_mode": {
    "name": "ipython",
    "version": 3
   },
   "file_extension": ".py",
   "mimetype": "text/x-python",
   "name": "python",
   "nbconvert_exporter": "python",
   "pygments_lexer": "ipython3",
   "version": "3.9.13"
  }
 },
 "nbformat": 4,
 "nbformat_minor": 5
}
